{
 "cells": [
  {
   "cell_type": "code",
   "execution_count": null,
   "id": "ea5b0124",
   "metadata": {},
   "outputs": [],
   "source": [
    "# --- Importing Libraries\n",
    "import sys\n",
    "print(\"Python Executable:\", sys.executable)\n",
    "\n",
    "import pandas as pd # type: ignore\n",
    "import numpy as np\n",
    "np.int = int # 😠 come on pygam\n",
    "import matplotlib.pyplot as plt # type: ignore\n",
    "import seaborn as sns # type: ignore\n",
    "import statsmodels.api as sm # type: ignore\n",
    "import statsmodels.formula.api as smf # type: ignore\n",
    "import matplotlib.pyplot as plt # type: ignore\n",
    "from stargazer.stargazer import Stargazer # type: ignore\n",
    "from IPython.display import HTML, display # type: ignore\n",
    "from sklearn.preprocessing import MinMaxScaler # type: ignore\n",
    "import polars as pl # type: ignore\n",
    "import re\n",
    "import matplotlib.ticker as ticker\n",
    "from sklearn.preprocessing import StandardScaler\n",
    "from sklearn.linear_model import ElasticNetCV\n",
    "from sklearn.pipeline import make_pipeline\n",
    "from sklearn.metrics import r2_score, root_mean_squared_error\n",
    "from pygam import LinearGAM, s\n",
    "#Hacking together version deprecationsin pygam\n",
    "import scipy.sparse\n",
    "scipy.sparse.csr.csr_matrix.A = property(lambda self: self.toarray())\n",
    "from scipy.stats import zscore\n",
    "\n"
   ]
  },
  {
   "cell_type": "code",
   "execution_count": null,
   "id": "c6877cf3",
   "metadata": {},
   "outputs": [],
   "source": [
    "# Set random seed for reproducibility\n",
    "np.random.seed(42)\n",
    "\n",
    "dates = pd.date_range(start=\"2022-01-01\", periods=1000, freq=\"D\")\n",
    "\n",
    "# Sales Data\n",
    "store_sales = np.random.normal(loc=4500, scale=500, size=1000).clip(3000, 6000)\n",
    "web_sales = np.random.normal(loc=3500, scale=600, size=1000).clip(2000, 5000)\n",
    "\n",
    "# Traffic Data\n",
    "store_traffic = np.random.normal(loc=5000, scale=1000, size=1000).clip(2000, 8000)\n",
    "web_traffic = np.random.normal(loc=2_000_000, scale=1_000_000, size=1000).clip(500_000, 5_000_000)\n",
    "\n",
    "# Create a dataframe\n",
    "df = pd.DataFrame({\n",
    "    'date': dates,\n",
    "    'store_sales': store_sales.astype(int),\n",
    "    'web_sales': web_sales.astype(int),\n",
    "    'store_traffic': store_traffic.astype(int),\n",
    "    'web_traffic': web_traffic.astype(int)\n",
    "})\n",
    "\n",
    "print(df.describe())"
   ]
  },
  {
   "cell_type": "code",
   "execution_count": null,
   "id": "201c83f2",
   "metadata": {},
   "outputs": [],
   "source": [
    "sns.set(style=\"whitegrid\")\n",
    "\n",
    "# Variables to plot (excluding Date)\n",
    "variables = ['store_sales', 'web_sales', 'store_traffic', 'web_traffic']\n",
    "\n",
    "# Set up subplots\n",
    "fig, axes = plt.subplots(nrows=2, ncols=2, figsize=(14, 8))\n",
    "axes = axes.flatten()\n",
    "\n",
    "for i, var in enumerate(variables):\n",
    "    sns.histplot(data=df, x=var, kde=True, ax=axes[i], bins=30, color='steelblue')\n",
    "    axes[i].set_title(f\"Distribution of {var.replace('_', ' ').title()}\")\n",
    "    axes[i].set_xlabel(\"\")\n",
    "    axes[i].set_ylabel(\"Frequency\")\n",
    "\n",
    "plt.tight_layout()\n",
    "plt.show()"
   ]
  },
  {
   "cell_type": "code",
   "execution_count": null,
   "id": "02d0c571",
   "metadata": {},
   "outputs": [],
   "source": [
    "scaler = StandardScaler()\n",
    "\n",
    "# Select the columns to scale (excluding 'Date')\n",
    "outcome_vars = ['store_sales', 'web_sales', 'store_traffic', 'web_traffic']\n",
    "\n",
    "# Fit and transform the data\n",
    "df_scaled = df.copy()\n",
    "df_scaled[outcome_vars] = scaler.fit_transform(df[outcome_vars])"
   ]
  },
  {
   "cell_type": "code",
   "execution_count": null,
   "id": "f0a486ba",
   "metadata": {},
   "outputs": [],
   "source": [
    "#Scaled Plots\n",
    "sns.set(style=\"whitegrid\")\n",
    "\n",
    "# Variables to plot (excluding Date)\n",
    "variables = ['store_sales', 'web_sales', 'store_traffic', 'web_traffic']\n",
    "\n",
    "# Set up subplots\n",
    "fig, axes = plt.subplots(nrows=2, ncols=2, figsize=(14, 8))\n",
    "axes = axes.flatten()\n",
    "\n",
    "for i, var in enumerate(variables):\n",
    "    sns.histplot(data=df_scaled, x=var, kde=True, ax=axes[i], bins=30, color='steelblue')\n",
    "    axes[i].set_title(f\"Distribution of {var.replace('_', ' ').title()}\")\n",
    "    axes[i].set_xlabel(\"\")\n",
    "    axes[i].set_ylabel(\"Frequency\")\n",
    "\n",
    "plt.tight_layout()\n",
    "plt.show()"
   ]
  },
  {
   "cell_type": "code",
   "execution_count": null,
   "id": "772b3dbc",
   "metadata": {},
   "outputs": [],
   "source": [
    "# --- Creating Outcomes\n",
    "\n",
    "df['raw_combined_traffic'] = df['web_traffic'] + df['store_traffic']\n",
    "df_scaled['sum_of_scaled_components'] = df_scaled['web_traffic'] + df_scaled['store_traffic']\n",
    "\n",
    "scaler_traffic = StandardScaler()\n",
    "df_scaled['scaled_combined_traffic'] = scaler_traffic.fit_transform(df[['raw_combined_traffic']])\n"
   ]
  },
  {
   "cell_type": "code",
   "execution_count": null,
   "id": "7c9836a3",
   "metadata": {},
   "outputs": [],
   "source": [
    "df['web_conversion'] = df['web_sales'] / df['web_traffic']\n",
    "\n",
    "df['store_conversion'] = df['store_sales'] / df['store_traffic']"
   ]
  },
  {
   "cell_type": "code",
   "execution_count": null,
   "id": "37854129",
   "metadata": {},
   "outputs": [],
   "source": [
    "# --- Creating Predictors\n",
    "\n",
    "np.random.seed(123)\n",
    "\n",
    "# Define the ranges you want\n",
    "predictor_specs = [\n",
    "    (2000, 5000),        # x1\n",
    "    (25000, 50000),      # x2\n",
    "    (50000, 100000),     # x3\n",
    "    (500000, 1000000),   # x4\n",
    "]\n",
    "\n",
    "# Generate predictors with noise\n",
    "for i, (low, high) in enumerate(predictor_specs):\n",
    "    df[f'x{i+1}'] = np.random.uniform(low, high, size=len(df))"
   ]
  },
  {
   "cell_type": "code",
   "execution_count": null,
   "id": "84aa99ea",
   "metadata": {},
   "outputs": [],
   "source": [
    "variables = ['x1', 'x2', 'x3', 'x4']\n",
    "\n",
    "# stdev of Y\n",
    "traffic_std = df['raw_combined_traffic'].std()\n",
    "\n",
    "# stdev of X's - dictionary for eassy access later\n",
    "predictor_std = df[variables].std().to_dict()\n",
    "\n",
    "# Scaling X's\n",
    "input_scaler = StandardScaler()\n",
    "df_scaled[variables] = input_scaler.fit_transform(df[variables])"
   ]
  },
  {
   "cell_type": "code",
   "execution_count": null,
   "id": "36f10a16",
   "metadata": {},
   "outputs": [],
   "source": [
    "# --- Regressions\n",
    "model_a = smf.ols(\"raw_combined_traffic ~ x1 + x2 + x3 + x4\", data = df).fit(cov_type='HC1')\n",
    "\n",
    "# Regressing Traffic scaled after adding\n",
    "model_b= smf.ols(\"scaled_combined_traffic ~ x1 + x2 + x3 + x4\", data = df_scaled).fit(cov_type='HC1')"
   ]
  },
  {
   "cell_type": "code",
   "execution_count": null,
   "id": "d9fa8b16",
   "metadata": {},
   "outputs": [],
   "source": [
    "# --- \n",
    "#Regression coefficients\n",
    "coeff_a_std = model_a.params[variables]\n",
    "coeff_b_std = model_b.params[variables]\n",
    "\n",
    "# Convert coefficients back - B*stdY/stdX\n",
    "level_effects_b = {\n",
    "    var: coeff_b_std[var] * (traffic_std / predictor_std[var])\n",
    "    for var in variables\n",
    "}\n",
    "\n",
    "\n",
    "converted_b = pd.DataFrame({\n",
    "    'Variable': variables,\n",
    "    'Std_Coeff': [coeff_b_std[var] for var in variables],\n",
    "    'Level_Effect': [level_effects_b[var] for var in variables],\n",
    "    'Unscaled_Regression': [coeff_a_std[var] for var in variables]\n",
    "})\n",
    "\n",
    "print(converted_b)"
   ]
  },
  {
   "cell_type": "code",
   "execution_count": null,
   "id": "4fa6b803",
   "metadata": {},
   "outputs": [],
   "source": [
    "model_c = smf.ols(\"sum_of_scaled_components ~ x1 + x2 + x3 + x4\", data = df_scaled).fit(cov_type='HC1')\n"
   ]
  },
  {
   "cell_type": "code",
   "execution_count": null,
   "id": "0a485026",
   "metadata": {},
   "outputs": [],
   "source": [
    "web_z = zscore(df['web_traffic'])\n",
    "store_z = zscore(df['store_traffic'])\n",
    "\n",
    "corr = np.corrcoef(web_z, store_z)[0, 1]\n",
    "\n",
    "sd_y3 = np.sqrt(2 + 2 * corr)\n",
    "\n",
    "print(f\"Standard deviation of Y_3 (sum of standardized components): {sd_y3}\")"
   ]
  },
  {
   "cell_type": "code",
   "execution_count": null,
   "id": "4b50c8c9",
   "metadata": {},
   "outputs": [],
   "source": [
    "model_a.summary()"
   ]
  }
 ],
 "metadata": {
  "kernelspec": {
   "display_name": "venvFunctionalFormEstimation",
   "language": "python",
   "name": "python3"
  },
  "language_info": {
   "codemirror_mode": {
    "name": "ipython",
    "version": 3
   },
   "file_extension": ".py",
   "mimetype": "text/x-python",
   "name": "python",
   "nbconvert_exporter": "python",
   "pygments_lexer": "ipython3",
   "version": "3.13.2"
  }
 },
 "nbformat": 4,
 "nbformat_minor": 5
}
